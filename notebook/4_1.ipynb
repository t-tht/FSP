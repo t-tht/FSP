{
 "cells": [
  {
   "cell_type": "code",
   "execution_count": 1,
   "metadata": {},
   "outputs": [],
   "source": [
    "import numpy as np\n",
    "import pandas as pd\n",
    "import matplotlib.pyplot as plt\n",
    "AAPL = pd.read_csv(r'../data/AAPL.csv', index_col = 0)\n",
    "IBM = pd.read_csv(r'../data/IBM.csv', index_col = 0)\n",
    "JPM = pd.read_csv(r'../data/JPM.csv', index_col = 0)\n",
    "DJI = pd.read_csv(r'../data/DJI.csv', index_col = 0)\n",
    "\n",
    "order = [\"AAPL\", \"IBM\", \"JPM\", \"DJI\"]"
   ]
  },
  {
   "cell_type": "code",
   "execution_count": 2,
   "metadata": {},
   "outputs": [],
   "source": [
    "# # import data and obtain the 1-day returns\n",
    "# AAPL = pd.read_csv(r'AAPL.csv', index_col = 0)\n",
    "# AAPL['Return'] = AAPL['Adj Close'].pct_change()\n",
    "# IBM = pd.read_csv(r'IBM.csv', index_col = 0)\n",
    "# IBM['Return'] = IBM['Adj Close'].pct_change()\n",
    "# JPM = pd.read_csv(r'JPM.csv', index_col = 0)\n",
    "# JPM['Return'] = JPM['Adj Close'].pct_change()\n",
    "# DJI = pd.read_csv(r'DJI.csv', index_col = 0)\n",
    "# DJI['Return'] = DJI['Adj Close'].pct_change()"
   ]
  },
  {
   "cell_type": "markdown",
   "metadata": {},
   "source": [
    "# Open"
   ]
  },
  {
   "cell_type": "code",
   "execution_count": 3,
   "metadata": {},
   "outputs": [
    {
     "data": {
      "text/plain": [
       "<function matplotlib.pyplot.bar(x, height, width=0.8, bottom=None, *, align='center', data=None, **kwargs)>"
      ]
     },
     "execution_count": 3,
     "metadata": {},
     "output_type": "execute_result"
    },
    {
     "data": {
      "image/png": "[encoded data removed]",
      "text/plain": [
       "<Figure size 432x288 with 1 Axes>"
      ]
     },
     "metadata": {
      "needs_background": "light"
     },
     "output_type": "display_data"
    }
   ],
   "source": [
    "\n",
    "mean = []\n",
    "\n",
    "mean.append(np.mean(AAPL['Open']))\n",
    "mean.append(np.mean(IBM['Open']))\n",
    "mean.append(np.mean(JPM['Open']))\n",
    "mean.append(np.mean(DJI['Open']))\n",
    "\n",
    "\n",
    "median = []\n",
    "\n",
    "median.append(np.median(AAPL['Open']))\n",
    "median.append(np.median(IBM['Open']))\n",
    "median.append(np.median(JPM['Open']))\n",
    "median.append(np.median(DJI['Open']))\n",
    "# print(mean)\n",
    "\n",
    "plt.bar(order,mean)\n",
    "# plt.hold(True)\n",
    "# plt.bar(order,median)\n",
    "plt.bar"
   ]
  },
  {
   "cell_type": "markdown",
   "metadata": {},
   "source": [
    "# High"
   ]
  },
  {
   "cell_type": "code",
   "execution_count": 4,
   "metadata": {},
   "outputs": [
    {
     "data": {
      "text/plain": [
       "<BarContainer object of 4 artists>"
      ]
     },
     "execution_count": 4,
     "metadata": {},
     "output_type": "execute_result"
    },
    {
     "data": {
      "image/png": "[encoded data removed]",
      "text/plain": [
       "<Figure size 432x288 with 1 Axes>"
      ]
     },
     "metadata": {
      "needs_background": "light"
     },
     "output_type": "display_data"
    }
   ],
   "source": [
    "\n",
    "mean = []\n",
    "\n",
    "mean.append(np.mean(AAPL['Open']))\n",
    "mean.append(np.mean(IBM['Open']))\n",
    "mean.append(np.mean(JPM['Open']))\n",
    "mean.append(np.mean(DJI['Open']))\n",
    "# print(mean)\n",
    "\n",
    "plt.bar(order,mean)"
   ]
  },
  {
   "cell_type": "markdown",
   "metadata": {},
   "source": [
    "# Low"
   ]
  },
  {
   "cell_type": "markdown",
   "metadata": {},
   "source": [
    "# Close"
   ]
  },
  {
   "cell_type": "markdown",
   "metadata": {},
   "source": [
    "# Adj Close"
   ]
  },
  {
   "cell_type": "markdown",
   "metadata": {},
   "source": [
    "# Volume"
   ]
  },
  {
   "cell_type": "markdown",
   "metadata": {},
   "source": [
    "# 1 day return"
   ]
  },
  {
   "cell_type": "code",
   "execution_count": 5,
   "metadata": {},
   "outputs": [],
   "source": [
    "AAPL['Return'] = AAPL['Adj Close'].pct_change()\n",
    "IBM['Return'] = IBM['Adj Close'].pct_change()\n",
    "JPM['Return'] = JPM['Adj Close'].pct_change()\n",
    "DJI['Return'] = DJI['Adj Close'].pct_change()"
   ]
  },
  {
   "cell_type": "markdown",
   "metadata": {},
   "source": [
    "# 4.1.2"
   ]
  },
  {
   "cell_type": "code",
   "execution_count": 10,
   "metadata": {},
   "outputs": [
    {
     "data": {
      "text/plain": [
       "<matplotlib.axes._subplots.AxesSubplot at 0x11dd67080>"
      ]
     },
     "execution_count": 10,
     "metadata": {},
     "output_type": "execute_result"
    },
    {
     "data": {
      "image/png": "[encoded data removed]",
      "text/plain": [
       "<Figure size 432x288 with 1 Axes>"
      ]
     },
     "metadata": {
      "needs_background": "light"
     },
     "output_type": "display_data"
    }
   ],
   "source": [
    "AAPL['Return'].plot.kde()\n",
    "AAPL['Return'].hist(bins=50)"
   ]
  },
  {
   "cell_type": "code",
   "execution_count": null,
   "metadata": {},
   "outputs": [],
   "source": []
  }
 ],
 "metadata": {
  "kernelspec": {
   "display_name": "Python 3",
   "language": "python",
   "name": "python3"
  },
  "language_info": {
   "codemirror_mode": {
    "name": "ipython",
    "version": 3
   },
   "file_extension": ".py",
   "mimetype": "text/x-python",
   "name": "python",
   "nbconvert_exporter": "python",
   "pygments_lexer": "ipython3",
   "version": "3.7.0"
  }
 },
 "nbformat": 4,
 "nbformat_minor": 2
}
