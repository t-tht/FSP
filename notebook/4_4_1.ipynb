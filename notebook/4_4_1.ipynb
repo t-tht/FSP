{
 "cells": [
  {
   "cell_type": "code",
   "execution_count": null,
   "metadata": {},
   "outputs": [],
   "source": [
    "import numpy as np\n",
    "import pandas as pd\n",
    "import matplotlib.pyplot as plt\n",
    "import seaborn as sns\n",
    "from matplotlib.pyplot import figure\n",
    "import statsmodels.api as sm\n",
    "from sklearn import linear_model\n",
    "\n",
    "AAPL = pd.read_csv(r'../data/AAPL.csv', index_col = 0)\n",
    "IBM = pd.read_csv(r'../data/IBM.csv', index_col = 0)\n",
    "JPM = pd.read_csv(r'../data/JPM.csv', index_col = 0)\n",
    "DJI = pd.read_csv(r'../data/DJI.csv', index_col = 0)\n",
    "\n",
    "stock_names = [\"AAPL\", \"IBM\", \"JPM\", \"DJI\"]\n",
    "\n",
    "AAPL['1DReturn'] = AAPL['Adj Close'].pct_change()\n",
    "IBM['1DReturn'] = IBM['Adj Close'].pct_change()\n",
    "JPM['1DReturn'] = JPM['Adj Close'].pct_change()\n",
    "DJI['1DReturn'] = DJI['Adj Close'].pct_change()\n",
    "\n",
    "stocks = [AAPL, IBM, JPM, DJI]\n",
    "asdf = [\"a\",\"b\",\"c\",\"d\"]\n",
    "\n",
    "\n",
    "AAPL[\"Close with outlier\"] = AAPL[\"Adj Close\"]\n",
    "IBM[\"Close with outlier\"] = IBM[\"Adj Close\"]\n",
    "JPM[\"Close with outlier\"] = JPM[\"Adj Close\"]\n",
    "DJI[\"Close with outlier\"] = DJI[\"Adj Close\"]\n",
    "\n",
    "for stock in stocks:\n",
    "    stock_max = stock[\"Close with outlier\"].max()*1.2\n",
    "    stock[\"Close with outlier\"].loc[stock.index[40]] = stock_max\n",
    "    stock[\"Close with outlier\"].loc[stock.index[126]] = stock_max\n",
    "    stock[\"Close with outlier\"].loc[stock.index[189]] = stock_max\n",
    "    stock[\"Close with outlier\"].loc[stock.index[208]] = stock_max\n",
    "\n",
    "AAPL['1DReturn_outlier'] = AAPL['Close with outlier'].pct_change()\n",
    "IBM['1DReturn_outlier'] = IBM['Close with outlier'].pct_change()\n",
    "JPM['1DReturn_outlier'] = JPM['Close with outlier'].pct_change()\n",
    "DJI['1DReturn_outlier'] = DJI['Close with outlier'].pct_change()"
   ]
  }
 ],
 "metadata": {
  "kernelspec": {
   "display_name": "Python 3",
   "language": "python",
   "name": "python3"
  },
  "language_info": {
   "codemirror_mode": {
    "name": "ipython",
    "version": 3
   },
   "file_extension": ".py",
   "mimetype": "text/x-python",
   "name": "python",
   "nbconvert_exporter": "python",
   "pygments_lexer": "ipython3",
   "version": "3.7.4"
  }
 },
 "nbformat": 4,
 "nbformat_minor": 4
}
