{
 "cells": [
  {
   "cell_type": "code",
   "execution_count": 1,
   "metadata": {},
   "outputs": [],
   "source": [
    "import numpy as np\n",
    "import pandas as pd\n",
    "import matplotlib.pyplot as plt\n",
    "import seaborn as sns\n",
    "# from pandas.table.plotting import table\n",
    "\n",
    "\n",
    "\n",
    "AAPL = pd.read_csv(r'../data/AAPL.csv', index_col = 0)\n",
    "IBM = pd.read_csv(r'../data/IBM.csv', index_col = 0)\n",
    "JPM = pd.read_csv(r'../data/JPM.csv', index_col = 0)\n",
    "DJI = pd.read_csv(r'../data/DJI.csv', index_col = 0)\n",
    "\n",
    "stock_names = [\"AAPL\", \"IBM\", \"JPM\", \"DJI\"]\n",
    "\n",
    "AAPL['1DReturn'] = AAPL['Adj Close'].pct_change()\n",
    "IBM['1DReturn'] = IBM['Adj Close'].pct_change()\n",
    "JPM['1DReturn'] = JPM['Adj Close'].pct_change()\n",
    "DJI['1DReturn'] = DJI['Adj Close'].pct_change()\n",
    "\n",
    "stocks = [AAPL, IBM, JPM, DJI]"
   ]
  },
  {
   "cell_type": "code",
   "execution_count": null,
   "metadata": {},
   "outputs": [],
   "source": []
  }
 ],
 "metadata": {
  "kernelspec": {
   "display_name": "Python 3",
   "language": "python",
   "name": "python3"
  },
  "language_info": {
   "codemirror_mode": {
    "name": "ipython",
    "version": 3
   },
   "file_extension": ".py",
   "mimetype": "text/x-python",
   "name": "python",
   "nbconvert_exporter": "python",
   "pygments_lexer": "ipython3",
   "version": "3.7.4"
  }
 },
 "nbformat": 4,
 "nbformat_minor": 4
}
